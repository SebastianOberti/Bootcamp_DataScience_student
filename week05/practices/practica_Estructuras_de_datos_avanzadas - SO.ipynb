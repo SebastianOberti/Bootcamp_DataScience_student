{
 "cells": [
  {
   "cell_type": "markdown",
   "metadata": {},
   "source": [
    "# Ejercicios para practicar - Estructura de datos\n",
    "\n",
    "A continuación encontraréis un conjunto de problemas que pueden servir para practicar los conceptos explicados en esta primera unidad, así como para refrescar los conceptos básicos de programación. Os recomendamos que intentéis realizar estos problemas vosotros mismos y que, una vez realizados, comparéis la solución que proponemos con vuestra solución. No dudéis en dirigir todas las dudas que surjan de la resolución de estos ejercicios, o bien de las soluciones propuestas, al foro del aula.\n",
    "\n",
    "1. Decidid cuál es la estructura de datos más adecuada para responder a cada una de las preguntas siguientes y escribid el código que permita responderlas.\n",
    "\n",
    "Disponemos de datos de un conjunto de ciudades del mundo. De cada ciudad, sabemos si tiene más de 14 millones de habitantes, si es capital del país donde se encuentra y si tiene una densidad de población por encima de los 20.000 habitantes por $km^2$:\n",
    "* Las ciudades Shanghai, Beijing, Delhi, Estambul, Karachi, Guangzhou y Kinshasa tienen más de 14 millones de habitantes. El resto de las ciudades de las que tenemos datos tienen 14 millones o menos de habitantes.\n",
    "* Las ciudades Delhi, Beijing, Kinshasa, Tokio, Moscow, Jakarta, Seoul y El Cairo son capitales del país donde se encuentran. El resto de las ciudades de las que tenemos datos no son capitales.\n",
    "* Las ciudades El Cairo, Kinshasa, Delhi y Tokio tienen una densidad de población por encima de los 20.000 habitantes por $km^2$. El resto de las ciudades de las que tenemos datos no superan los 20.000 habitantes por $km^2$. \n",
    "\n",
    "1.1. ¿De cuántas ciudades (diferentes) tenemos datos? Asumiremos que no hay ninguna ciudad que no cumpla al menos una de las propiedades anteriores.\n"
   ]
  },
  {
   "cell_type": "code",
   "execution_count": 4,
   "metadata": {},
   "outputs": [
    {
     "name": "stdout",
     "output_type": "stream",
     "text": [
      "12\n",
      "El dataset contiene datos de 12 ciudades distintas\n",
      "Beijing, Delhi, El_Cairo, Estambul, Guangzhou, Jakarta, Karachi, Kinshasa, Moscow, Seoul, Shanghai, Tokio\n"
     ]
    }
   ],
   "source": [
    "#Respuesta\n",
    "\n",
    "high_pop = {'Shanghai', 'Beijing', 'Delhi', 'Estambul', 'Karachi', 'Guangzhou', 'Kinshasa'}\n",
    "capitals = {'Delhi', 'Beijing', 'Kinshasa', 'Tokio', 'Moscow', 'Jakarta', 'Seoul', 'El_Cairo'}\n",
    "high_density = {'El_Cairo', 'Kinshasa', 'Delhi', 'Tokio'}\n",
    "\n",
    "distinct_cities = sorted(set.union(high_pop, high_density, capitals))\n",
    "print(len(capitals.union(high_pop, high_density))) #alternativa\n",
    "\n",
    "print(f'El dataset contiene datos de {len(distinct_cities)} ciudades distintas')\n",
    "print(*distinct_cities, sep=', ')\n"
   ]
  },
  {
   "cell_type": "markdown",
   "metadata": {},
   "source": [
    "1.2. ¿Cuántas ciudades tienen más de 14 millones de habitantes y una densidad de población por encima de los 20.000 habitantes por $ km ^ 2 $?\n"
   ]
  },
  {
   "cell_type": "code",
   "execution_count": 5,
   "metadata": {},
   "outputs": [
    {
     "name": "stdout",
     "output_type": "stream",
     "text": [
      "{'Kinshasa', 'Delhi'}\n",
      "Existen 2 ciudades con alta poblacion y alta densidad\n",
      "Kinshasa, Delhi\n"
     ]
    }
   ],
   "source": [
    "# Respuesta\n",
    "\n",
    "high_pop_high_density = high_density.intersection(high_pop)\n",
    "r12 = {c for c in distinct_cities if c in high_density and c in high_pop}\n",
    "print(r12)\n",
    "print(f'Existen {len(high_pop_high_density)} ciudades con alta poblacion y alta densidad')\n",
    "print(*high_pop_high_density, sep=', ')"
   ]
  },
  {
   "cell_type": "markdown",
   "metadata": {},
   "source": [
    "1.3. ¿Qué ciudades tienen una densidad de población por encima de los 20.000 habitantes por $ km ^ 2 $ pero no más de 14 millones de habitantes?\n"
   ]
  },
  {
   "cell_type": "code",
   "execution_count": 13,
   "metadata": {},
   "outputs": [
    {
     "name": "stdout",
     "output_type": "stream",
     "text": [
      "Existen 2 ciudades con baja poblacion y alta densidad\n",
      "Tokio, El_Cairo\n"
     ]
    }
   ],
   "source": [
    "# Respuesta\n",
    "#determino el conjunto de ciudades con poblacion baja\n",
    "low_pop = distinct_cities.difference(high_pop)\n",
    "\n",
    "high_density_low_pop = low_pop.intersection(high_density)\n",
    "\n",
    "print(f'Existen {len(high_density_low_pop)} ciudades con baja poblacion y alta densidad')\n",
    "print(*high_density_low_pop, sep=', ')\n"
   ]
  },
  {
   "cell_type": "markdown",
   "metadata": {},
   "source": [
    "1.4. ¿Cuál es el país con mayor número de ciudades por encima de 14 millones de habitantes? ¿Cuántas ciudades de estas características hay en cada país?\n",
    "\n",
    "Para responder a estas preguntas, nos faltará añadir información al conjunto de datos de ciudades disponible para realizar la actividad. Pensad cuál sería la estructura de datos más adecuada para almacenar esta información extra y calcular la respuesta a la pregunta planteada.\n"
   ]
  },
  {
   "cell_type": "code",
   "execution_count": 42,
   "metadata": {},
   "outputs": [
    {
     "name": "stdout",
     "output_type": "stream",
     "text": [
      "Counter({'China': 3, 'R D Congo': 1, 'India': 1, 'Turkey': 1, 'Pakistan': 1})\n",
      "{'China': 3, 'R D Congo': 1, 'India': 1, 'Turkey': 1, 'Pakistan': 1}\n",
      "China\n",
      "Counter({'China': 3, 'R D Congo': 1, 'India': 1, 'Turkey': 1, 'Pakistan': 1})\n"
     ]
    }
   ],
   "source": [
    "# Respuesta\n",
    "\n",
    "countries = {'Beijing': 'China',\n",
    "            'Delhi': 'India',\n",
    "            'El_Cairo': 'Egipto',\n",
    "            'Estambul': 'Turkey',\n",
    "            'Guangzhou': 'China',\n",
    "            'Jakarta': 'Indonesia',\n",
    "            'Karachi': 'Pakistan',\n",
    "            'Kinshasa': 'R D Congo',\n",
    "            'Moscow': 'Rusia',\n",
    "            'Seoul': 'Corea del Sur',\n",
    "            'Shanghai': 'China',\n",
    "            'Tokio': 'Japón'}\n",
    "\n",
    "# dict_variable = {key:value for (key,value) in dictonary.items()}\n",
    "high_pop_fromdict = {k:countries[k] for k in high_pop}\n",
    "#contamos el numero de paises con alta poblacion\n",
    "country_list = [value for key, value in high_pop_fromdict.items()]\n",
    "\n",
    "from collections import Counter \n",
    "counter_per_country = Counter(country_list)\n",
    "print(counter_per_country)\n",
    "\n",
    "#alternativa 2 con lambda\n",
    "country_table = dict(zip(country_list, map(lambda x: country_list.count(x), country_list)))\n",
    "print(country_table)\n",
    "\n",
    "# alternativa 3 max(counter_per_country.items(), key = lambda k : k[1])\n",
    "max_country = max(counter_per_country, key=counter_per_country.get) \n",
    "print(max_country)\n",
    "\n",
    "# alternativa 4\n",
    "high_pop_fromdict2 = [countries[k] for k in high_pop]\n",
    "counter_per_country2 = Counter(high_pop_fromdict2)\n",
    "print(counter_per_country2)\n",
    "\n",
    "\n",
    "\n"
   ]
  },
  {
   "cell_type": "markdown",
   "metadata": {},
   "source": [
    "1.5. ¿Cuáles son los dos países adyacentes que tienen el mayor número de ciudades por encima de 14 millones de habitantes?\n",
    "\n",
    "Para responder a esta pregunta, nos faltará añadir más información al conjunto de datos de ciudades disponible para realizar la actividad. De nuevo, pensad cuál sería la estructura de datos más adecuada para almacenar esta información extra y calcular la respuesta a la pregunta planteada.\n",
    "\n"
   ]
  },
  {
   "cell_type": "code",
   "execution_count": 97,
   "metadata": {},
   "outputs": [],
   "source": [
    "# Respuesta"
   ]
  },
  {
   "cell_type": "markdown",
   "metadata": {},
   "source": [
    "2. Calculad cuántas horas ha trabajado la persona que ha escrito la siguiente frase:\n",
    "\n",
    "\"I started working at 17:22:42 and finished at 22:00:00\"\n",
    "\n"
   ]
  },
  {
   "cell_type": "code",
   "execution_count": 53,
   "metadata": {},
   "outputs": [
    {
     "name": "stdout",
     "output_type": "stream",
     "text": [
      "La cantidad de tiempo exacto de trabajo ha sido 4:37:18\n"
     ]
    }
   ],
   "source": [
    "sentence = \"I started working at 17:22:42 and finished at 22:00:00\"\n",
    "sentence_split = sentence.split()\n",
    "\n",
    "# Respuesta\n",
    "start = sentence_split[4] \n",
    "end = sentence_split[8]\n",
    "\n",
    "import datetime as dt\n",
    "start_f = dt.datetime.strptime(start, '%H:%M:%S')\n",
    "end_f = dt.datetime.strptime(end, '%H:%M:%S')\n",
    "\n",
    "delta = end_f - start_f\n",
    "\n",
    "print(f'La cantidad de tiempo exacto de trabajo ha sido {delta}')\n"
   ]
  },
  {
   "cell_type": "markdown",
   "metadata": {},
   "source": [
    "3. Dada la cadena de caracteres `sentence`, reemplazad todos los espacios en blanco por puntos.\n"
   ]
  },
  {
   "cell_type": "code",
   "execution_count": 54,
   "metadata": {},
   "outputs": [
    {
     "data": {
      "text/plain": [
       "'.From.....time.to.time,.Python.makes..an....incompatible.change..to.the...advertised.semantics.of.core.language.constructs...'"
      ]
     },
     "execution_count": 54,
     "metadata": {},
     "output_type": "execute_result"
    }
   ],
   "source": [
    "sentence2 = \" From     time to time, Python makes  an    incompatible change \" \\\n",
    "    \" to the   advertised semantics of core language constructs   \"\n",
    "\n",
    "# Respuesta\n",
    "sentence2.replace(' ','.')"
   ]
  },
  {
   "cell_type": "markdown",
   "metadata": {},
   "source": [
    "4. Dada la misma cadena de caracteres del ejercicio anterior, reemplazad todos los espacios en blanco contiguos por un único punto. Es decir, si encontráis tres espacios en blanco consecutivos, estos se deben reemplazar por un único punto, y no por tres puntos como implementábamos en el ejercicio anterior. Eliminad los espacios que se encuentran al inicio y al final de la cadena antes de sustituirlos por puntos.\n"
   ]
  },
  {
   "cell_type": "code",
   "execution_count": 56,
   "metadata": {},
   "outputs": [
    {
     "data": {
      "text/plain": [
       "'From.time.to.time,.Python.makes.an.incompatible.change.to.the.advertised.semantics.of.core.language.constructs'"
      ]
     },
     "execution_count": 56,
     "metadata": {},
     "output_type": "execute_result"
    }
   ],
   "source": [
    "# Respuesta\n",
    "import re\n",
    "stripsentence = sentence2.strip()\n",
    "re.sub(' +', ('.'), stripsentence)"
   ]
  },
  {
   "cell_type": "markdown",
   "metadata": {},
   "source": [
    "5. Proporcionad una lista con todas las palabras de cuatro letras de la cadena de caracteres `sentence` que empiecen por `t` o `F`.\n"
   ]
  },
  {
   "cell_type": "code",
   "execution_count": 68,
   "metadata": {},
   "outputs": [
    {
     "data": {
      "text/plain": [
       "[' From', ' time', ' time']"
      ]
     },
     "execution_count": 68,
     "metadata": {},
     "output_type": "execute_result"
    }
   ],
   "source": [
    "# Respuesta\n",
    "sentence2a = re.findall(r\" [F]\\w{3}| t\\w{3}\", sentence2)\n",
    "sentence2a\n",
    "\n",
    "#letters = ['t', 'F']\n",
    "#found_words = [w for w in sentence.split() if len(w)==4 and w[0] in letters]\n",
    "#found_words"
   ]
  },
  {
   "cell_type": "markdown",
   "metadata": {},
   "source": [
    "6. Reemplazad todas las mayúsculas de la cadena `sentence` por interrogantes.\n"
   ]
  },
  {
   "cell_type": "code",
   "execution_count": 69,
   "metadata": {},
   "outputs": [
    {
     "name": "stdout",
     "output_type": "stream",
     "text": [
      " ?rom     time to time, ?ython makes  an    incompatible change  to the   advertised semantics of core language constructs   \n"
     ]
    }
   ],
   "source": [
    "# Respuesta\n",
    "new_sentence = re.sub(r\"[A-Z]\",\"?\", sentence2)\n",
    "print(new_sentence)"
   ]
  },
  {
   "cell_type": "markdown",
   "metadata": {},
   "source": [
    "7. Una aerolínea nos contrata para ayudarla a optimizar el procedimiento de embarque de sus aviones. La aerolínea dispone de tres clases de billetes: primera, *business* y turista. A la hora de embarcar, los clientes se sitúan en tres colas, una para cada clase. Después, sin embargo, solo hay dos azafatas que les validen la tarjeta de embarque, por lo que las tres colas iniciales se convierten en dos, a partir de las cuales los pasajeros acceden a los aviones.\n",
    "\n",
    "Actualmente, la aerolínea utiliza la siguiente estrategia para convertir las tres colas iniciales (por clase) en las dos colas que embarcan (una por cada azafata):\n",
    "\n",
    "Por un lado, los clientes de primera y *business* van a parar a la cola 1 (cola prioritaria), intercalando un cliente de cada tipo en la cola prioritaria siempre que haya suficientes clientes para hacerlo, y asignando después todos los clientes restantes a la nueva cola. Así, el primer cliente que se asigna a la cola prioritaria es el primer cliente de la clase primera, el segundo cliente de la cola prioritaria será el primer cliente de la cola de *business*, el tercer cliente de la cola prioritaria será el segundo cliente de la clase primera, etc.\n",
    "\n",
    "Por otra parte, los clientes de clase turista van a parar a la cola 2 (cola no prioritaria), siguiendo el orden que tenían en la cola de la clase turista. Ahora bien, si un cliente de clase turista tiene movilidad reducida o va acompañado de niños, entonces este se sitúa al frente de la cola prioritaria. Si hay más de un cliente en estas condiciones, el orden que siguen en la cola de la clase turista se mantiene.\n",
    "\n",
    "Para evaluar cómo de buena es la estrategia, la aerolínea utiliza dos métricas:\n",
    "1. El tiempo que se tarda en embarcar el avión es de 30 segundos por pasajero, considerando que las dos colas (1 y 2) embarcan a la vez. Es decir, si la cola 1 tiene un pasajero y la cola 2 tiene dos, se tardará un minuto en embarcar.\n",
    "2. La satisfacción global de sus clientes, que se calcula haciendo la media de la satisfacción de cada cliente, considerando que:\n"
   ]
  },
  {
   "cell_type": "markdown",
   "metadata": {},
   "source": [
    "* Los clientes de primera tienen una satisfacción de -25 veces el número de posiciones que han perdido en la cola prioritaria respecto a su posición original en la cola de primera. Es decir, un cliente que estaba en tercera posición en la cola de primera y que ocupa la quinta posición de la cola prioritaria, tendrá una satisfacción de -50.\n",
    "* Los clientes de *business* siempre tienen una satisfacción de 0.\n",
    "* Los clientes con billete de clase turista que han sido movidos a la cola prioritaria tienen una satisfacción de 100. En cambio, los que han sido movidos a la cola no prioritaria tienen una satisfacción de 25 si han avanzado alguna posición en la cola 2 respecto a su posición inicial en la cola de la clase turista, o de 0 en cualquier otro caso.\n",
    "\n",
    "Como analistas de datos, evaluaremos la satisfacción y el tiempo de embarque del avión del vuelo 714.\n"
   ]
  },
  {
   "cell_type": "markdown",
   "metadata": {},
   "source": [
    "7.1 Cargad los datos de los pasajeros del vuelo 714 que encontraréis en el dataset `data/flight714.csv` y cread las tres colas, primera, *business* y turista, con los datos de los pasajeros. Los clientes se encuentran ordenados según su posición en la cola, con la columna `client_class` indicando a cuál de las colas pertenecen.\n"
   ]
  },
  {
   "cell_type": "code",
   "execution_count": 130,
   "metadata": {},
   "outputs": [
    {
     "data": {
      "text/plain": [
       "Index(['client_id', 'client_class', 'has_children', 'has_reduced_mobility'], dtype='object')"
      ]
     },
     "execution_count": 130,
     "metadata": {},
     "output_type": "execute_result"
    }
   ],
   "source": [
    "df.columns"
   ]
  },
  {
   "cell_type": "code",
   "execution_count": 71,
   "metadata": {},
   "outputs": [
    {
     "name": "stdout",
     "output_type": "stream",
     "text": [
      "<class 'pandas.core.frame.DataFrame'>\n",
      "RangeIndex: 50 entries, 0 to 49\n",
      "Data columns (total 4 columns):\n",
      " #   Column                Non-Null Count  Dtype \n",
      "---  ------                --------------  ----- \n",
      " 0   client_id             50 non-null     int64 \n",
      " 1   client_class          50 non-null     object\n",
      " 2   has_children          50 non-null     int64 \n",
      " 3   has_reduced_mobility  50 non-null     int64 \n",
      "dtypes: int64(3), object(1)\n",
      "memory usage: 1.7+ KB\n"
     ]
    }
   ],
   "source": [
    "# Respuesta\n",
    "import pandas as pd\n",
    "path = 'https://raw.githubusercontent.com/CatuCerecedo/Bootcamp_DataScience_student/master/week05/practices/flight714.csv'\n",
    "df = pd.read_csv(path)\n",
    "\n",
    "df.info()\n",
    "df.head()\n",
    "\n",
    "queue_turista = df[df['client_class'] == 't'].reset_index()\n",
    "queue_primera = df[df['client_class'] == 'p'].reset_index()\n",
    "queue_business = df[df['client_class'] == 'b'].reset_index()\n"
   ]
  },
  {
   "cell_type": "markdown",
   "metadata": {},
   "source": [
    "7.2 Mostrad cuántos pasajeros hay en cada cola, con el detalle de cuántos de ellos tienen o bien niños o bien movilidad reducida.\n"
   ]
  },
  {
   "cell_type": "code",
   "execution_count": 168,
   "metadata": {},
   "outputs": [
    {
     "name": "stdout",
     "output_type": "stream",
     "text": [
      "En la cola Turista hay un total de 37 pasajeros:\n",
      "Con hijos 3, con movilidad reducida 2 y ambas 1\n",
      "En la cola Primera hay un total de 3 pasajeros.\n",
      "En la cola Business hay un total de 10 pasajeros.\n"
     ]
    }
   ],
   "source": [
    "# Respuesta\n",
    "\n",
    "turista_has_children_mob = queue_turista[(queue_turista['has_children'] == 1) & (queue_turista['has_reduced_mobility'] == 1)]\n",
    "turista_has_children_mob_sum = turista_has_children_mob['has_children'].sum()\n",
    "\n",
    "turista_has_children = queue_turista[(queue_turista['has_children'] == 1) & (queue_turista['has_reduced_mobility'] == 0)]\n",
    "turista_has_children_sum = turista_has_children['has_children'].sum()\n",
    "\n",
    "turista_has_mob = queue_turista[(queue_turista['has_children'] == 0) & (queue_turista['has_reduced_mobility'] == 1)]\n",
    "turista_has_mob_sum = turista_has_mob['has_reduced_mobility'].sum()\n",
    "\n",
    "print(f'En la cola Turista hay un total de {len(queue_turista)} pasajeros:')\n",
    "print(f'Con hijos {turista_has_children_sum}, con movilidad reducida {turista_has_mob_sum} y ambas {turista_has_children_mob_sum}')\n",
    "print(f'En la cola Primera hay un total de {len(queue_primera)} pasajeros.')\n",
    "print(f'En la cola Business hay un total de {len(queue_business)} pasajeros.')"
   ]
  },
  {
   "cell_type": "markdown",
   "metadata": {},
   "source": [
    "7.3 Implementad una función que genere las dos colas de embarque (cola prioritaria y cola no prioritaria) a partir de las tres colas obtenidas según la clase del billete del pasajero.\n"
   ]
  },
  {
   "cell_type": "code",
   "execution_count": 236,
   "metadata": {},
   "outputs": [],
   "source": [
    "# Respuesta\n",
    "\n",
    "def queue_distribution(claseT, claseP, claseB):\n",
    "\n",
    "    queue_1 = pd.DataFrame()\n",
    "    queue_2 = pd.DataFrame()\n",
    "\n",
    "    queue_1 = claseT[(claseT['has_children'] == 1) | (claseT['has_reduced_mobility'] == 1)]\n",
    "    queue_2 = claseT[(claseT['has_children'] == 0) & (claseT['has_reduced_mobility'] == 0)]\n",
    "    queue_1alt = claseP.append(claseB)\n",
    "    queue_1alt['rank'] = queue_1alt.groupby(['client_class']).cumcount()\n",
    "    queue_1alt = queue_1alt.sort_values(['rank'])\n",
    "    queue_1alt = queue_1alt.drop(['rank'], axis=1)\n",
    "    queue_1final = queue_1.append(queue_1alt)\n",
    "\n",
    "    return queue_1final, queue_2\n",
    "\n",
    "queue_distribution(queue_turista, queue_primera, queue_business)\n",
    "\n",
    "queue_1final, queue_2 = queue_distribution(queue_turista, queue_primera, queue_business)\n",
    "    \n",
    "\n",
    "\n"
   ]
  },
  {
   "cell_type": "code",
   "execution_count": 274,
   "metadata": {},
   "outputs": [
    {
     "data": {
      "text/html": [
       "<div>\n",
       "<style scoped>\n",
       "    .dataframe tbody tr th:only-of-type {\n",
       "        vertical-align: middle;\n",
       "    }\n",
       "\n",
       "    .dataframe tbody tr th {\n",
       "        vertical-align: top;\n",
       "    }\n",
       "\n",
       "    .dataframe thead th {\n",
       "        text-align: right;\n",
       "    }\n",
       "</style>\n",
       "<table border=\"1\" class=\"dataframe\">\n",
       "  <thead>\n",
       "    <tr style=\"text-align: right;\">\n",
       "      <th></th>\n",
       "      <th>index</th>\n",
       "      <th>client_id</th>\n",
       "      <th>client_class</th>\n",
       "      <th>has_children</th>\n",
       "      <th>has_reduced_mobility</th>\n",
       "    </tr>\n",
       "  </thead>\n",
       "  <tbody>\n",
       "    <tr>\n",
       "      <th>0</th>\n",
       "      <td>13</td>\n",
       "      <td>14</td>\n",
       "      <td>t</td>\n",
       "      <td>0</td>\n",
       "      <td>0</td>\n",
       "    </tr>\n",
       "    <tr>\n",
       "      <th>2</th>\n",
       "      <td>15</td>\n",
       "      <td>16</td>\n",
       "      <td>t</td>\n",
       "      <td>0</td>\n",
       "      <td>0</td>\n",
       "    </tr>\n",
       "    <tr>\n",
       "      <th>4</th>\n",
       "      <td>17</td>\n",
       "      <td>18</td>\n",
       "      <td>t</td>\n",
       "      <td>0</td>\n",
       "      <td>0</td>\n",
       "    </tr>\n",
       "    <tr>\n",
       "      <th>5</th>\n",
       "      <td>18</td>\n",
       "      <td>19</td>\n",
       "      <td>t</td>\n",
       "      <td>0</td>\n",
       "      <td>0</td>\n",
       "    </tr>\n",
       "    <tr>\n",
       "      <th>6</th>\n",
       "      <td>19</td>\n",
       "      <td>20</td>\n",
       "      <td>t</td>\n",
       "      <td>0</td>\n",
       "      <td>0</td>\n",
       "    </tr>\n",
       "    <tr>\n",
       "      <th>7</th>\n",
       "      <td>20</td>\n",
       "      <td>21</td>\n",
       "      <td>t</td>\n",
       "      <td>0</td>\n",
       "      <td>0</td>\n",
       "    </tr>\n",
       "    <tr>\n",
       "      <th>8</th>\n",
       "      <td>21</td>\n",
       "      <td>22</td>\n",
       "      <td>t</td>\n",
       "      <td>0</td>\n",
       "      <td>0</td>\n",
       "    </tr>\n",
       "    <tr>\n",
       "      <th>9</th>\n",
       "      <td>22</td>\n",
       "      <td>23</td>\n",
       "      <td>t</td>\n",
       "      <td>0</td>\n",
       "      <td>0</td>\n",
       "    </tr>\n",
       "    <tr>\n",
       "      <th>10</th>\n",
       "      <td>23</td>\n",
       "      <td>24</td>\n",
       "      <td>t</td>\n",
       "      <td>0</td>\n",
       "      <td>0</td>\n",
       "    </tr>\n",
       "    <tr>\n",
       "      <th>11</th>\n",
       "      <td>24</td>\n",
       "      <td>25</td>\n",
       "      <td>t</td>\n",
       "      <td>0</td>\n",
       "      <td>0</td>\n",
       "    </tr>\n",
       "    <tr>\n",
       "      <th>12</th>\n",
       "      <td>25</td>\n",
       "      <td>26</td>\n",
       "      <td>t</td>\n",
       "      <td>0</td>\n",
       "      <td>0</td>\n",
       "    </tr>\n",
       "    <tr>\n",
       "      <th>13</th>\n",
       "      <td>26</td>\n",
       "      <td>27</td>\n",
       "      <td>t</td>\n",
       "      <td>0</td>\n",
       "      <td>0</td>\n",
       "    </tr>\n",
       "    <tr>\n",
       "      <th>14</th>\n",
       "      <td>27</td>\n",
       "      <td>28</td>\n",
       "      <td>t</td>\n",
       "      <td>0</td>\n",
       "      <td>0</td>\n",
       "    </tr>\n",
       "    <tr>\n",
       "      <th>15</th>\n",
       "      <td>28</td>\n",
       "      <td>29</td>\n",
       "      <td>t</td>\n",
       "      <td>0</td>\n",
       "      <td>0</td>\n",
       "    </tr>\n",
       "    <tr>\n",
       "      <th>16</th>\n",
       "      <td>29</td>\n",
       "      <td>30</td>\n",
       "      <td>t</td>\n",
       "      <td>0</td>\n",
       "      <td>0</td>\n",
       "    </tr>\n",
       "    <tr>\n",
       "      <th>18</th>\n",
       "      <td>31</td>\n",
       "      <td>32</td>\n",
       "      <td>t</td>\n",
       "      <td>0</td>\n",
       "      <td>0</td>\n",
       "    </tr>\n",
       "    <tr>\n",
       "      <th>19</th>\n",
       "      <td>32</td>\n",
       "      <td>33</td>\n",
       "      <td>t</td>\n",
       "      <td>0</td>\n",
       "      <td>0</td>\n",
       "    </tr>\n",
       "    <tr>\n",
       "      <th>20</th>\n",
       "      <td>33</td>\n",
       "      <td>34</td>\n",
       "      <td>t</td>\n",
       "      <td>0</td>\n",
       "      <td>0</td>\n",
       "    </tr>\n",
       "    <tr>\n",
       "      <th>21</th>\n",
       "      <td>34</td>\n",
       "      <td>35</td>\n",
       "      <td>t</td>\n",
       "      <td>0</td>\n",
       "      <td>0</td>\n",
       "    </tr>\n",
       "    <tr>\n",
       "      <th>23</th>\n",
       "      <td>36</td>\n",
       "      <td>37</td>\n",
       "      <td>t</td>\n",
       "      <td>0</td>\n",
       "      <td>0</td>\n",
       "    </tr>\n",
       "    <tr>\n",
       "      <th>24</th>\n",
       "      <td>37</td>\n",
       "      <td>38</td>\n",
       "      <td>t</td>\n",
       "      <td>0</td>\n",
       "      <td>0</td>\n",
       "    </tr>\n",
       "    <tr>\n",
       "      <th>25</th>\n",
       "      <td>38</td>\n",
       "      <td>39</td>\n",
       "      <td>t</td>\n",
       "      <td>0</td>\n",
       "      <td>0</td>\n",
       "    </tr>\n",
       "    <tr>\n",
       "      <th>27</th>\n",
       "      <td>40</td>\n",
       "      <td>41</td>\n",
       "      <td>t</td>\n",
       "      <td>0</td>\n",
       "      <td>0</td>\n",
       "    </tr>\n",
       "    <tr>\n",
       "      <th>28</th>\n",
       "      <td>41</td>\n",
       "      <td>42</td>\n",
       "      <td>t</td>\n",
       "      <td>0</td>\n",
       "      <td>0</td>\n",
       "    </tr>\n",
       "    <tr>\n",
       "      <th>29</th>\n",
       "      <td>42</td>\n",
       "      <td>43</td>\n",
       "      <td>t</td>\n",
       "      <td>0</td>\n",
       "      <td>0</td>\n",
       "    </tr>\n",
       "    <tr>\n",
       "      <th>30</th>\n",
       "      <td>43</td>\n",
       "      <td>44</td>\n",
       "      <td>t</td>\n",
       "      <td>0</td>\n",
       "      <td>0</td>\n",
       "    </tr>\n",
       "    <tr>\n",
       "      <th>31</th>\n",
       "      <td>44</td>\n",
       "      <td>45</td>\n",
       "      <td>t</td>\n",
       "      <td>0</td>\n",
       "      <td>0</td>\n",
       "    </tr>\n",
       "    <tr>\n",
       "      <th>32</th>\n",
       "      <td>45</td>\n",
       "      <td>46</td>\n",
       "      <td>t</td>\n",
       "      <td>0</td>\n",
       "      <td>0</td>\n",
       "    </tr>\n",
       "    <tr>\n",
       "      <th>34</th>\n",
       "      <td>47</td>\n",
       "      <td>48</td>\n",
       "      <td>t</td>\n",
       "      <td>0</td>\n",
       "      <td>0</td>\n",
       "    </tr>\n",
       "    <tr>\n",
       "      <th>35</th>\n",
       "      <td>48</td>\n",
       "      <td>49</td>\n",
       "      <td>t</td>\n",
       "      <td>0</td>\n",
       "      <td>0</td>\n",
       "    </tr>\n",
       "    <tr>\n",
       "      <th>36</th>\n",
       "      <td>49</td>\n",
       "      <td>50</td>\n",
       "      <td>t</td>\n",
       "      <td>0</td>\n",
       "      <td>0</td>\n",
       "    </tr>\n",
       "  </tbody>\n",
       "</table>\n",
       "</div>"
      ],
      "text/plain": [
       "    index  client_id client_class  has_children  has_reduced_mobility\n",
       "0      13         14            t             0                     0\n",
       "2      15         16            t             0                     0\n",
       "4      17         18            t             0                     0\n",
       "5      18         19            t             0                     0\n",
       "6      19         20            t             0                     0\n",
       "7      20         21            t             0                     0\n",
       "8      21         22            t             0                     0\n",
       "9      22         23            t             0                     0\n",
       "10     23         24            t             0                     0\n",
       "11     24         25            t             0                     0\n",
       "12     25         26            t             0                     0\n",
       "13     26         27            t             0                     0\n",
       "14     27         28            t             0                     0\n",
       "15     28         29            t             0                     0\n",
       "16     29         30            t             0                     0\n",
       "18     31         32            t             0                     0\n",
       "19     32         33            t             0                     0\n",
       "20     33         34            t             0                     0\n",
       "21     34         35            t             0                     0\n",
       "23     36         37            t             0                     0\n",
       "24     37         38            t             0                     0\n",
       "25     38         39            t             0                     0\n",
       "27     40         41            t             0                     0\n",
       "28     41         42            t             0                     0\n",
       "29     42         43            t             0                     0\n",
       "30     43         44            t             0                     0\n",
       "31     44         45            t             0                     0\n",
       "32     45         46            t             0                     0\n",
       "34     47         48            t             0                     0\n",
       "35     48         49            t             0                     0\n",
       "36     49         50            t             0                     0"
      ]
     },
     "execution_count": 274,
     "metadata": {},
     "output_type": "execute_result"
    }
   ],
   "source": [
    "queue_2"
   ]
  },
  {
   "cell_type": "markdown",
   "metadata": {},
   "source": [
    "7.4 Implementad una función que calcule el tiempo que se tarda en embarcar el avión y una función que calcule la satisfacción de los pasajeros.\n"
   ]
  },
  {
   "cell_type": "code",
   "execution_count": 205,
   "metadata": {},
   "outputs": [],
   "source": [
    "# Respuesta\n",
    "\n",
    "def boarding_time(queue_1final,queue_2):\n",
    "    if len(queue_2) > len(queue_1final):\n",
    "        par1 = len(queue_2)\n",
    "    else:\n",
    "        par1 = len(queue_1final)\n",
    "\n",
    "    diff = par1 * 30\n",
    "    return diff"
   ]
  },
  {
   "cell_type": "code",
   "execution_count": 291,
   "metadata": {},
   "outputs": [],
   "source": [
    "def satis_survey(queue_1final,queue_2):\n",
    "    satisP1 = []\n",
    "    satisT1 = []\n",
    "    satisT2 = []\n",
    "\n",
    "    for i in range(len(queue_1final)):\n",
    "        if queue_1final.iloc[i]['client_class'] == 'p':\n",
    "            change = queue_1final.index[i] - i\n",
    "            satisP1.append(change * 25)\n",
    "    \n",
    "    for i in range(len(queue_1final)):\n",
    "        if queue_1final.iloc[i]['client_class'] == 't':\n",
    "            change = 100\n",
    "            satisT1.append(change)    \n",
    "\n",
    "    for i in range(len(queue_2)):\n",
    "        if (queue_2.index[i] - i + 1) > 1:\n",
    "            satisT2.append(25)\n",
    "\n",
    "    return sum(satisT1) + sum(satisT2) + sum(satisP1) "
   ]
  },
  {
   "cell_type": "markdown",
   "metadata": {},
   "source": [
    "7.5 Calculad el tiempo que se tarda en embarcar el vuelo 714 y la satisfacción de los clientes.\n"
   ]
  },
  {
   "cell_type": "code",
   "execution_count": 289,
   "metadata": {},
   "outputs": [
    {
     "name": "stdout",
     "output_type": "stream",
     "text": [
      "El boarding time es de: 15.5 minutos\n"
     ]
    }
   ],
   "source": [
    "# Respuesta\n",
    "\n",
    "timing = boarding_time(queue_1final,queue_2)\n",
    "print(f'El boarding time es de: {timing/60} minutos')"
   ]
  },
  {
   "cell_type": "code",
   "execution_count": 292,
   "metadata": {},
   "outputs": [
    {
     "name": "stdout",
     "output_type": "stream",
     "text": [
      "La satisfacción de los clientes es de 825\n"
     ]
    }
   ],
   "source": [
    "nsurvey = satis_survey(queue_1final,queue_2)\n",
    "print(f'La satisfacción de los clientes es de {nsurvey}')\n"
   ]
  }
 ],
 "metadata": {
  "kernelspec": {
   "display_name": "Python 3",
   "language": "python",
   "name": "python3"
  },
  "language_info": {
   "codemirror_mode": {
    "name": "ipython",
    "version": 3
   },
   "file_extension": ".py",
   "mimetype": "text/x-python",
   "name": "python",
   "nbconvert_exporter": "python",
   "pygments_lexer": "ipython3",
   "version": "3.9.6"
  },
  "pycharm": {
   "stem_cell": {
    "cell_type": "raw",
    "metadata": {
     "collapsed": false
    },
    "source": []
   }
  }
 },
 "nbformat": 4,
 "nbformat_minor": 4
}
