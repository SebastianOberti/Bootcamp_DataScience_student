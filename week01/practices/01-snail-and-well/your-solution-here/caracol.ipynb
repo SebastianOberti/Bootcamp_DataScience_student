{
 "cells": [
  {
   "cell_type": "markdown",
   "metadata": {},
   "source": [
    "# 01 - Caracol y el pozo\n",
    "\n",
    "Un caracol cae en el fondo de un pozo de 125 cm. Cada día el caracol sube 30 cm. pero por la noche, mientras duerme, resbala 20 cm debido a que las paredes son húmedas. ¿Cuantos días tarda en escapar del pozo?\n",
    "\n",
    "TIP: https://www.vix.com/es/btg/curiosidades/59215/acertijos-matematicos-el-caracol-en-el-pozo-facil\n",
    "\n",
    "TIP: http://puzzles.nigelcoldwell.co.uk/sixtytwo.htm"
   ]
  },
  {
   "cell_type": "markdown",
   "metadata": {},
   "source": [
    "## Solución"
   ]
  },
  {
   "cell_type": "code",
   "execution_count": 76,
   "metadata": {},
   "outputs": [
    {
     "name": "stdout",
     "output_type": "stream",
     "text": [
      "10\n"
     ]
    }
   ],
   "source": [
    "# Asigna los datos del problema a variables con nombres representativos\n",
    "# altura del pozo, avance diario, retroceso nocturno, distancia acumulada\n",
    "\n",
    "altura_pozo_cm = 125 #el ultimo dia sale sin retroceder\n",
    "avance_diario_cm = 30\n",
    "retroceso_diario_cm = 20\n",
    "\n",
    "# Asigna 0 a la variable que representa la solución\n",
    "\n",
    "dias = 0 \n",
    "distancia_acumulada = 0\n",
    "\n",
    "# Escribe el código que soluciona el problema\n",
    "\n",
    "\n",
    "while distancia_acumulada < altura_pozo_cm:\n",
    "    distancia_acumulada = ( avance_diario_cm - retroceso_diario_cm ) * (dias + 1)\n",
    "    dias += 1\n",
    "    if distancia_acumulada + 30 >= altura_pozo_cm:\n",
    "        break\n",
    "    \n",
    "\n",
    "\n",
    "# Imprime el resultado con print('Dias =', dias)\n",
    "\n",
    "Dias = dias\n",
    "print(dias)\n",
    "\n",
    "\n",
    "\n",
    "\n",
    "\n"
   ]
  },
  {
   "cell_type": "markdown",
   "metadata": {},
   "source": [
    "## Objetivos\n",
    "\n",
    "1. Tratamiento de variables\n",
    "2. Uso de bucle **while**\n",
    "3. Uso de condicionales **if-else**\n",
    "4. Imprimir por consola"
   ]
  },
  {
   "cell_type": "markdown",
   "metadata": {},
   "source": [
    "## Bonus\n",
    "La distancia recorrida por el caracol viene ahora definida por una lista. \n",
    "```\n",
    "avance_cm = [30, 21, 33, 77, 44, 45, 23, 45, 12, 34, 55]\n",
    "```\n",
    "¿Cuánto tarda en subir el pozo?\n",
    "¿Cuál es su máximo de desplazamiento en un día? ¿Y su mínimo?\n",
    "¿Cuál es su media de velocidad durante el día?\n",
    "¿Cuál es la desviación típica de su desplazamiento durante el día?"
   ]
  },
  {
   "cell_type": "code",
   "execution_count": 1,
   "metadata": {},
   "outputs": [
    {
     "name": "stdout",
     "output_type": "stream",
     "text": [
      "10\n",
      "1\n",
      "***\n",
      "11\n",
      "2\n",
      "***\n",
      "24\n",
      "3\n",
      "***\n",
      "81\n",
      "4\n",
      "***\n",
      "el caracol tardo en salir 5 dias\n",
      "77\n",
      "12\n",
      "38.09\n",
      "17.996969441850734\n"
     ]
    }
   ],
   "source": [
    "# Asigna los datos del problema a variables con nombres representativos\n",
    "# altura del pozo, avance diario, retroceso nocturno, distancia acumulada\n",
    "\n",
    "altura_pozo_cm = 125\n",
    "avance_cm = [30, 21, 33, 77, 44, 45, 23, 45, 12, 34, 55]\n",
    "retroceso_diario_cm = 20\n",
    "distancia_acumulada = 0\n",
    "\n",
    "# Asigna 0 a la variable que representa la solución\n",
    "\n",
    "dias = 0\n",
    "\n",
    "# Escribe el código que soluciona el problema\n",
    "for i in avance_cm:\n",
    "        dias += 1\n",
    "        if distancia_acumulada + i >= altura_pozo_cm:\n",
    "            break\n",
    "        else:\n",
    "            distancia_acumulada = distancia_acumulada + i - retroceso_diario_cm\n",
    "\n",
    "        print(distancia_acumulada)\n",
    "        print(dias)\n",
    "        print(\"***\")\n",
    "\n",
    "# Imprime el resultado con print('Dias =', dias)\n",
    "\n",
    "print(\"el caracol tardo en salir\",dias,\"dias\")\n",
    "\n",
    "# ¿Cuál es su máximo de desplazamiento en un día? ¿Y su mínimo?\n",
    "\n",
    "max_value = max(avance_cm)\n",
    "print(max_value)\n",
    "min_value = min(avance_cm)\n",
    "print(min_value)\n",
    "\n",
    "# ¿Cuál es su media de avance?\n",
    "\n",
    "avg_value = sum(avance_cm) / len(avance_cm)\n",
    "print(round(avg_value,2))\n",
    "\n",
    "# ¿Cuál es la desviación típica de su desplazamiento durante el día?\n",
    "\n",
    "from statistics import stdev\n",
    "standard_deviation = stdev(avance_cm)\n",
    "print(standard_deviation)\n",
    "\n"
   ]
  },
  {
   "cell_type": "code",
   "execution_count": null,
   "metadata": {},
   "outputs": [],
   "source": []
  }
 ],
 "metadata": {
  "interpreter": {
   "hash": "7846bd56680b1a6fb3cc1e13ba6e910e7d407167b1ac41b9b857c29a7cfad296"
  },
  "kernelspec": {
   "display_name": "Python 3.9.6 64-bit",
   "name": "python3"
  },
  "language_info": {
   "codemirror_mode": {
    "name": "ipython",
    "version": 3
   },
   "file_extension": ".py",
   "mimetype": "text/x-python",
   "name": "python",
   "nbconvert_exporter": "python",
   "pygments_lexer": "ipython3",
   "version": "3.9.6"
  }
 },
 "nbformat": 4,
 "nbformat_minor": 4
}
