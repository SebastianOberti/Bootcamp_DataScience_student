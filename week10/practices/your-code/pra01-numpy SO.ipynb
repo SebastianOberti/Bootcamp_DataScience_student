{
 "cells": [
  {
   "cell_type": "markdown",
   "metadata": {},
   "source": [
    "# Programación 201"
   ]
  },
  {
   "cell_type": "markdown",
   "metadata": {},
   "source": [
    "Librerías científicas en Python: `NumPy`\n",
    "------------------------------------------------------"
   ]
  },
  {
   "cell_type": "markdown",
   "metadata": {},
   "source": [
    "### Ejercicio 1\n",
    "Calculad la norma y el determinante de la siguiente matriz: ```[[1, 0], [2, -1]]```."
   ]
  },
  {
   "cell_type": "code",
   "execution_count": 54,
   "metadata": {},
   "outputs": [
    {
     "name": "stdout",
     "output_type": "stream",
     "text": [
      "la norma es 2.45\n",
      "la determinante es -1.0\n"
     ]
    },
    {
     "data": {
      "text/plain": [
       "-1.0"
      ]
     },
     "execution_count": 54,
     "metadata": {},
     "output_type": "execute_result"
    }
   ],
   "source": [
    "# Respuesta\n",
    "\n",
    "import numpy as np\n",
    "\n",
    "matriz1 = np.array([\n",
    "                    [1, 0], \n",
    "                    [2, -1]\n",
    "                    ])\n",
    "\n",
    "norm = np.linalg.norm(matriz1)\n",
    "deter = np.linalg.det(matriz1)\n",
    "\n",
    "print(f\"la norma es {round(norm,2)}\")\n",
    "print(f\"la determinante es {deter}\")"
   ]
  },
  {
   "cell_type": "markdown",
   "metadata": {},
   "source": [
    "### Ejercicio 2 \n",
    "Evaluad las funciones arcoseno y arcocoseno en el intervalo [0,1] y con paso (resolución) de 0.1 y guardadlas en dos _arrays_."
   ]
  },
  {
   "cell_type": "code",
   "execution_count": 110,
   "metadata": {},
   "outputs": [],
   "source": [
    "# Respuesta\n",
    "\n",
    "arcoseno = np.arcsin(1)\n",
    "arcocoseno = np.arccos(1)\n",
    "\n",
    "#no se lo que son los arcosenos y arcocoseno\n"
   ]
  },
  {
   "cell_type": "markdown",
   "metadata": {},
   "source": [
    "### Ejercicio 3\n",
    "Generad una lista de 100 valores enteros aleatorios de 0-9. Realizad los siguientes cálculos utilizando métodos de _numpy_:\n",
    "- Media y desviación estándar de los valores de la lista\n",
    "- Valor máximo y mínimo\n",
    "- Sumad todos los valores de la lista\n",
    "- Conseguid una lista de valores únicos"
   ]
  },
  {
   "cell_type": "code",
   "execution_count": 10,
   "metadata": {},
   "outputs": [
    {
     "name": "stdout",
     "output_type": "stream",
     "text": [
      "[9 5 9 7 7 8 3 8 7 1 8 8 1 9 5 8 6 7 5 7 1 7 9 5 4 4 4 2 1 4 6 6 3 9 9 6 0\n",
      " 6 2 4 2 9 7 7 5 8 4 6 1 3 2 2 3 4 4 1 9 2 0 0 7 5 4 3 4 8 5 7 3 6 5 4 7 9\n",
      " 3 2 4 3 6 1 5 8 0 7 5 5 6 9 5 9 6 3 4 9 4 5 5 2 4 6]\n",
      "la media es 5.02\n",
      "la desviacion standard es 2.57\n",
      "la suma es 502\n",
      "los valores unicos son: [0 1 2 3 4 5 6 7 8 9]\n"
     ]
    }
   ],
   "source": [
    "# Respuesta\n",
    "from random import randint\n",
    "lista_100 = np.random.randint(0,10,100)\n",
    "print(lista_100)\n",
    "\n",
    "media = np.mean(lista_100)\n",
    "stddev =np.std(lista_100)\n",
    "sumup = np.sum(lista_100)\n",
    "unique =  np.unique(lista_100)\n",
    "\n",
    "print(f\"la media es {round(media,2)}\")\n",
    "print(f\"la desviacion standard es {round(stddev,2)}\")\n",
    "print(f\"la suma es {sumup}\")\n",
    "print(f\"los valores unicos son: {unique}\")\n"
   ]
  },
  {
   "cell_type": "markdown",
   "metadata": {},
   "source": [
    "### Ejercicio 4\n",
    "Ordenad la matriz bidimensional ```[[5,1,7], [0,7,4], [7,23,1]]``` por filas utilizando como algoritmo de ordenación el [Merge sort](https://en.wikipedia.org/wiki/Merge_sort).\n",
    "\n",
    "**Hint:** No es necesario que implementéis el algoritmo de ordenación a mano, NumPy contiene métodos para realizar diferentes tipos de ordenación sobre diferentes estructuras de datos."
   ]
  },
  {
   "cell_type": "code",
   "execution_count": 105,
   "metadata": {},
   "outputs": [
    {
     "data": {
      "text/plain": [
       "array([ 0,  1,  1,  4,  5,  7,  7,  7, 23])"
      ]
     },
     "execution_count": 105,
     "metadata": {},
     "output_type": "execute_result"
    }
   ],
   "source": [
    "# Respuesta\n",
    "\n",
    "matriz2 = np.array([\n",
    "                    [5,1,7], \n",
    "                    [0,7,4], \n",
    "                    [7,23,1]\n",
    "                    ])\n",
    "\n",
    "a,b,c = matriz2[0], matriz2[1], matriz2[2]\n",
    "d = np.concatenate((a,b,c), axis=0)\n",
    "d.sort(kind='mergesort')\n",
    "d\n"
   ]
  },
  {
   "cell_type": "markdown",
   "metadata": {},
   "source": [
    "### Ejercicio 5\n",
    "Definid una función que dadas dos matrices, devuelva el valor absoluto de la multiplicación de los determinantes ambas, es decir, dadas A y B, nuestra función devolverá `|det(A) * det(B)|`."
   ]
  },
  {
   "cell_type": "code",
   "execution_count": 60,
   "metadata": {},
   "outputs": [
    {
     "data": {
      "text/plain": [
       "6.0"
      ]
     },
     "execution_count": 60,
     "metadata": {},
     "output_type": "execute_result"
    }
   ],
   "source": [
    "# Respuesta\n",
    "def ej5(x,y):\n",
    "    rta = abs(np.linalg.det(x) * np.linalg.det(y))\n",
    "    return rta\n",
    "\n",
    "i, j = np.array([[0,-1], [1,-2]]), np.array([[3,-3], [2,-4]])\n",
    "\n",
    "ej5(i, j)\n"
   ]
  },
  {
   "cell_type": "markdown",
   "metadata": {},
   "source": [
    "### Ejercicio 6\n",
    "Cread una matriz 10x10 que corresponda con la [matriz identidad](https://es.wikipedia.org/wiki/Matriz_identidad) usando generadores básicos de arrays. Cread una matriz identidad 10x10 (esta vez usando generadores especificos de matrices identidad) y comprobad que ambas matrices son iguales\n",
    "\n",
    "**Consideraciones**:\n",
    "- La primera matriz debe crearse usando constructores básicos de arrays, como los presentados en los Notebooks de teoría.\n",
    "* La segunda matriz debe generarse utilizando el generador de matrices identidad de numpy.\n",
    "* La comparación debe devolver True si las matrices son iguales (un único True), False de no ser así."
   ]
  },
  {
   "cell_type": "code",
   "execution_count": 91,
   "metadata": {},
   "outputs": [
    {
     "name": "stdout",
     "output_type": "stream",
     "text": [
      "True\n"
     ]
    }
   ],
   "source": [
    "# Respuesta\n",
    "id1 = np.array([\n",
    "              [1,0,0,0,0,0,0,0,0,0],\n",
    "              [0,1,0,0,0,0,0,0,0,0],\n",
    "              [0,0,1,0,0,0,0,0,0,0],\n",
    "              [0,0,0,1,0,0,0,0,0,0],\n",
    "              [0,0,0,0,1,0,0,0,0,0],\n",
    "              [0,0,0,0,0,1,0,0,0,0],\n",
    "              [0,0,0,0,0,0,1,0,0,0],\n",
    "              [0,0,0,0,0,0,0,1,0,0],\n",
    "              [0,0,0,0,0,0,0,0,1,0],\n",
    "              [0,0,0,0,0,0,0,0,0,1],\n",
    "])\n",
    "\n",
    "id2 = np.identity(10)\n",
    "\n",
    "print(np.array_equal(id1,id2))\n"
   ]
  },
  {
   "cell_type": "markdown",
   "metadata": {},
   "source": [
    "### Ejercicio 7\n",
    "Cread una matriz de 2x6 donde los valores de cada posición `(i, j)` correspondan a `i^2+j` para todo `i` par, `i/j^2` para todo `i` impar."
   ]
  },
  {
   "cell_type": "code",
   "execution_count": 104,
   "metadata": {},
   "outputs": [
    {
     "data": {
      "text/plain": [
       "array([[ 2,  1],\n",
       "       [ 2,  2],\n",
       "       [ 2,  5],\n",
       "       [ 2, 10],\n",
       "       [ 2, 17],\n",
       "       [ 2, 26]])"
      ]
     },
     "execution_count": 104,
     "metadata": {},
     "output_type": "execute_result"
    }
   ],
   "source": [
    "# Respuesta\n",
    "def matrix2x6(x):\n",
    "    matrix = np.arange(2*x).reshape(x,2)\n",
    "    for i in range(matrix.shape[0]):\n",
    "        matrix[i][0] = 2\n",
    "        if matrix[i][0] % 2 == 0:\n",
    "            for j in range(matrix.shape[1]):\n",
    "                matrix[i][1] = i**2 + j\n",
    "        else:\n",
    "            for j in range(matrix.shape[1]):\n",
    "                matrix[i][1] = i/2 + j\n",
    "\n",
    "    return matrix\n",
    "\n",
    "matrix2x6(6)\n",
    "\n",
    "#creo que no entendi el enunciado"
   ]
  },
  {
   "cell_type": "markdown",
   "metadata": {},
   "source": [
    "### Ejercicio 8\n",
    "Cread dos matrices de tamaño 5x5 con números reales aleatorios. Obtened el resultado de multiplicar ambas matrices usando los dos métodos de multiplicación de matrices vistos en el Notebook de teoría. ¿Cuál es la diferencia entre ambos resultados? Cread ahora dos matrices de tamaño 4x5 y 5x5 respectivamente, repetid la operación. Describid cuál de los métodos de multiplicación podéis aplicar y porqué"
   ]
  },
  {
   "cell_type": "code",
   "execution_count": 77,
   "metadata": {},
   "outputs": [],
   "source": [
    "# Respuesta\n",
    "A = np.random.randint(0,9,25).reshape(5,5)\n",
    "B = np.random.randint(0,9,25).reshape(5,5)\n",
    "C = np.random.randint(0,9,20).reshape(4,5)\n",
    "D = np.random.randint(0,9,25).reshape(5,5)\n",
    "\n",
    "metodo1_5555 = A * B\n",
    "metodo2_5555 = A.dot(B)\n",
    "#metodo1_4555 = C * D  #--> este metodo no se puede realizar porque el producto de matrices se realiza con el mismo numero de dimensiones\n",
    "metodo1_4555 = C.dot(D)\n"
   ]
  }
 ],
 "metadata": {
  "kernelspec": {
   "display_name": "Python 3",
   "language": "python",
   "name": "python3"
  },
  "language_info": {
   "codemirror_mode": {
    "name": "ipython",
    "version": 3
   },
   "file_extension": ".py",
   "mimetype": "text/x-python",
   "name": "python",
   "nbconvert_exporter": "python",
   "pygments_lexer": "ipython3",
   "version": "3.9.6"
  }
 },
 "nbformat": 4,
 "nbformat_minor": 4
}
